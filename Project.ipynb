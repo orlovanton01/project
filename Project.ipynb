{
 "cells": [
  {
   "cell_type": "code",
   "execution_count": 60,
   "id": "ab31875c-e2ed-41e9-ae96-a158fab9f1f8",
   "metadata": {},
   "outputs": [],
   "source": [
    "import math\n",
    "from sympy import primerange\n",
    "\n",
    "# alpha=y=7\n",
    "# beta=a=11\n",
    "# p=29\n",
    "# alpha=y=17\n",
    "# beta=a=10\n",
    "# p=47\n",
    "# beta=a=2\n",
    "# alpha=y=6\n",
    "# p=19\n",
    "# beta=a=3\n",
    "# alpha=y=11\n",
    "# p=17\n",
    "# beta=a=2\n",
    "# alpha=y=28\n",
    "# p=37\n",
    "# beta=a=59\n",
    "# alpha=y=67\n",
    "# p=113\n",
    "alpha=y=10\n",
    "beta=a=34\n",
    "p=41\n",
    "border=2**math.sqrt(math.log(p)*math.log(math.log(p)))\n",
    "gamma=list(primerange(1, border))"
   ]
  },
  {
   "cell_type": "code",
   "execution_count": 61,
   "id": "276cb5cc-2075-4698-aef8-7d211cd64c09",
   "metadata": {},
   "outputs": [
    {
     "data": {
      "text/plain": [
       "[2, 3]"
      ]
     },
     "execution_count": 61,
     "metadata": {},
     "output_type": "execute_result"
    }
   ],
   "source": [
    "gamma"
   ]
  },
  {
   "cell_type": "code",
   "execution_count": 62,
   "id": "33a50b1b-bc50-4375-b23d-62f9048316fe",
   "metadata": {},
   "outputs": [],
   "source": [
    "def primfacs(n):\n",
    "    i = 2\n",
    "    primfac = []\n",
    "    while i * i <= n:\n",
    "        while n % i == 0:\n",
    "            primfac.append(i)\n",
    "            n //= i\n",
    "        i += 1\n",
    "    if n > 1:\n",
    "        primfac.append(n)\n",
    "    p=list(set(primfac))\n",
    "    p.sort()\n",
    "    d={}\n",
    "    for el in p:\n",
    "        d[el]=primfac.count(el)\n",
    "    return d"
   ]
  },
  {
   "cell_type": "code",
   "execution_count": 63,
   "id": "63b2278c-1485-44ea-8f69-08ebe752b95c",
   "metadata": {},
   "outputs": [],
   "source": [
    "def is_smooth(prim, gamma):\n",
    "    k=0\n",
    "    for el in prim.keys():\n",
    "        if el in gamma:\n",
    "            k+=1\n",
    "    if k==len(prim.keys()):\n",
    "        return True\n",
    "    else:\n",
    "        return False"
   ]
  },
  {
   "cell_type": "code",
   "execution_count": 64,
   "id": "13309a4d-7742-402f-8f01-b49c5ce2a52d",
   "metadata": {},
   "outputs": [],
   "source": [
    "def get_coefs(prim, gamma):\n",
    "    m=[]\n",
    "    for el in gamma:\n",
    "        if el in prim.keys():\n",
    "            m.append(prim[el])\n",
    "        else:\n",
    "            m.append(0)\n",
    "    return m"
   ]
  },
  {
   "cell_type": "code",
   "execution_count": 65,
   "id": "8d1f2150-801f-4721-9d74-f90987e9d0e8",
   "metadata": {},
   "outputs": [],
   "source": [
    "def is_int(arr):\n",
    "    k=0\n",
    "    ki=0\n",
    "    for elt in arr:\n",
    "        for el in elt:\n",
    "            k+=1\n",
    "            if type(el)==int or type(el)==np.int32:\n",
    "                ki+=1\n",
    "    if ki==k:\n",
    "        return True\n",
    "    else:\n",
    "        return False"
   ]
  },
  {
   "cell_type": "code",
   "execution_count": 66,
   "id": "c8f7c7cc-4f2e-42ec-a65b-9eddc7378bb5",
   "metadata": {},
   "outputs": [
    {
     "name": "stdout",
     "output_type": "stream",
     "text": [
      "k = 32\n"
     ]
    }
   ],
   "source": [
    "import numpy as np\n",
    "from itertools import *\n",
    "\n",
    "break_flag=False\n",
    "res=0\n",
    "i=50\n",
    "\n",
    "while alpha!=beta**int(res)%p:\n",
    "    i+=10\n",
    "    for c in combinations(range(1, i), len(gamma)):\n",
    "        M=[]\n",
    "        V=[]\n",
    "        Ms=[]\n",
    "        Vs=[]\n",
    "        for j in c:\n",
    "            prim=primfacs(beta**j%p)\n",
    "            k=0\n",
    "            Mj=[]\n",
    "            v=[]\n",
    "            if is_smooth(prim, gamma):\n",
    "                m=get_coefs(prim, gamma)\n",
    "                Mj.append(m)\n",
    "                v.append(j)\n",
    "                Ms.append(Mj[0])\n",
    "                Vs.append(v)\n",
    "        M=np.vstack([Ms])\n",
    "        V=np.vstack([Vs])\n",
    "        try:\n",
    "            S=np.linalg.solve(M, V)\n",
    "            if np.array_equal(np.dot(M, S)%(p-1), V%(p-1)) and is_int(S):\n",
    "                break_flag=True\n",
    "                break\n",
    "        except:\n",
    "            pass\n",
    "        if break_flag:\n",
    "            break\n",
    "    for r in range(1, p-1):\n",
    "        prim=primfacs(alpha*beta**r%p)\n",
    "        if is_smooth(prim, gamma):\n",
    "            coefs=get_coefs(prim, gamma)\n",
    "            res=(-r+int(np.sum(np.array(coefs)*np.array(S).T[0])))%(p-1)\n",
    "            if alpha==beta**int(res)%p:\n",
    "                print(f'k = {res}')\n",
    "                break"
   ]
  },
  {
   "cell_type": "code",
   "execution_count": 67,
   "id": "af3f3ed1-5d08-46a0-8b5c-461e2fe9b820",
   "metadata": {},
   "outputs": [
    {
     "data": {
      "text/plain": [
       "True"
      ]
     },
     "execution_count": 67,
     "metadata": {},
     "output_type": "execute_result"
    }
   ],
   "source": [
    "alpha==beta**int(res)%p"
   ]
  },
  {
   "cell_type": "code",
   "execution_count": 68,
   "id": "45a5aef1-4bde-48a6-a170-209cfc65a706",
   "metadata": {},
   "outputs": [],
   "source": [
    "# Python3 program to find primitive root \n",
    "# of a given number n \n",
    "from math import sqrt\n",
    "\n",
    "# Returns True if n is prime \n",
    "def isPrime( n): \n",
    "\n",
    "\t# Corner cases \n",
    "\tif (n <= 1):\n",
    "\t\treturn False\n",
    "\tif (n <= 3):\n",
    "\t\treturn True\n",
    "\n",
    "\t# This is checked so that we can skip \n",
    "\t# middle five numbers in below loop \n",
    "\tif (n % 2 == 0 or n % 3 == 0):\n",
    "\t\treturn False\n",
    "\ti = 5\n",
    "\twhile(i * i <= n):\n",
    "\t\tif (n % i == 0 or n % (i + 2) == 0) :\n",
    "\t\t\treturn False\n",
    "\t\ti = i + 6\n",
    "\n",
    "\treturn True\n",
    "\n",
    "\"\"\" Iterative Function to calculate (x^n)%p\n",
    "\tin O(logy) */\"\"\"\n",
    "def power( x, y, p): \n",
    "\n",
    "\tres = 1 # Initialize result \n",
    "\n",
    "\tx = x % p # Update x if it is more \n",
    "\t\t\t# than or equal to p \n",
    "\n",
    "\twhile (y > 0): \n",
    "\n",
    "\t\t# If y is odd, multiply x with result \n",
    "\t\tif (y & 1):\n",
    "\t\t\tres = (res * x) % p \n",
    "\n",
    "\t\t# y must be even now \n",
    "\t\ty = y >> 1 # y = y/2 \n",
    "\t\tx = (x * x) % p \n",
    "\n",
    "\treturn res \n",
    "\n",
    "# Utility function to store prime\n",
    "# factors of a number \n",
    "def findPrimefactors(s, n) :\n",
    "\n",
    "\t# Print the number of 2s that divide n \n",
    "\twhile (n % 2 == 0) :\n",
    "\t\ts.add(2) \n",
    "\t\tn = n // 2\n",
    "\n",
    "\t# n must be odd at this point. So we can \n",
    "\t# skip one element (Note i = i +2) \n",
    "\tfor i in range(3, int(sqrt(n)), 2):\n",
    "\t\t\n",
    "\t\t# While i divides n, print i and divide n \n",
    "\t\twhile (n % i == 0) :\n",
    "\n",
    "\t\t\ts.add(i) \n",
    "\t\t\tn = n // i \n",
    "\t\t\n",
    "\t# This condition is to handle the case \n",
    "\t# when n is a prime number greater than 2 \n",
    "\tif (n > 2) :\n",
    "\t\ts.add(n) \n",
    "\n",
    "# Function to find smallest primitive \n",
    "# root of n \n",
    "def findPrimitive( n) :\n",
    "\ts = set() \n",
    "\n",
    "\t# Check if n is prime or not \n",
    "\tif (isPrime(n) == False): \n",
    "\t\treturn -1\n",
    "\n",
    "\t# Find value of Euler Totient function \n",
    "\t# of n. Since n is a prime number, the \n",
    "\t# value of Euler Totient function is n-1 \n",
    "\t# as there are n-1 relatively prime numbers.\n",
    "\tphi = n - 1\n",
    "\n",
    "\t# Find prime factors of phi and store in a set \n",
    "\tfindPrimefactors(s, phi) \n",
    "\n",
    "\t# Check for every number from 2 to phi \n",
    "\tfor r in range(2, phi + 1): \n",
    "\n",
    "\t\t# Iterate through all prime factors of phi. \n",
    "\t\t# and check if we found a power with value 1 \n",
    "\t\tflag = False\n",
    "\t\tfor it in s: \n",
    "\n",
    "\t\t\t# Check if r^((phi)/primefactors)\n",
    "\t\t\t# mod n is 1 or not \n",
    "\t\t\tif (power(r, phi // it, n) == 1): \n",
    "\n",
    "\t\t\t\tflag = True\n",
    "\t\t\t\tbreak\n",
    "\t\t\t\n",
    "\t\t# If there was no power with value 1. \n",
    "\t\tif (flag == False):\n",
    "\t\t\treturn r \n",
    "\n",
    "\t# If no primitive root found \n",
    "\treturn -1"
   ]
  },
  {
   "cell_type": "code",
   "execution_count": 69,
   "id": "d03cd5ff-6705-43b7-a5f9-d0a9da6c552f",
   "metadata": {},
   "outputs": [],
   "source": [
    "g=findPrimitive(p)"
   ]
  },
  {
   "cell_type": "code",
   "execution_count": 70,
   "id": "86aaa502-ef58-4686-966f-b4c90279899d",
   "metadata": {},
   "outputs": [
    {
     "data": {
      "text/plain": [
       "6"
      ]
     },
     "execution_count": 70,
     "metadata": {},
     "output_type": "execute_result"
    }
   ],
   "source": [
    "g"
   ]
  },
  {
   "cell_type": "code",
   "execution_count": 71,
   "id": "0f969ecc-550e-47a6-a6c4-69db440775cc",
   "metadata": {},
   "outputs": [],
   "source": [
    "indexes=[]\n",
    "\n",
    "flag1=flag2=break_flag=False\n",
    "xn=yn=0\n",
    "\n",
    "for i in range(10):\n",
    "    r=[]\n",
    "    for j in range(10):\n",
    "        power=int(str(i)+str(j))\n",
    "        s=g**power%p\n",
    "        if s==a:\n",
    "            an=power\n",
    "            flag1=True\n",
    "        if s==y:\n",
    "            yn=power\n",
    "            flag2=True\n",
    "        if flag1 and flag2:\n",
    "            break_flag=True\n",
    "            break\n",
    "        r.append(s)\n",
    "    indexes.append(r)\n",
    "    if break_flag:\n",
    "        break"
   ]
  },
  {
   "cell_type": "code",
   "execution_count": 72,
   "id": "5f1dbe38-81ba-45b7-80e0-742eacecb8a1",
   "metadata": {},
   "outputs": [
    {
     "data": {
      "text/plain": [
       "(19, 8)"
      ]
     },
     "execution_count": 72,
     "metadata": {},
     "output_type": "execute_result"
    }
   ],
   "source": [
    "an, yn"
   ]
  },
  {
   "cell_type": "code",
   "execution_count": 73,
   "id": "bea88be6-4d63-4f28-9e38-e8d41cae5865",
   "metadata": {},
   "outputs": [],
   "source": [
    "x=(yn*pow(an, -1, p-1))%(p-1)"
   ]
  },
  {
   "cell_type": "code",
   "execution_count": 74,
   "id": "b15259ae-6882-45ad-8219-730d8a5e14b1",
   "metadata": {},
   "outputs": [
    {
     "name": "stdout",
     "output_type": "stream",
     "text": [
      "x = 32\n"
     ]
    }
   ],
   "source": [
    "print(f'x = {x}')"
   ]
  },
  {
   "cell_type": "code",
   "execution_count": 75,
   "id": "4afb66d2-721c-44b8-9073-5e227d4f3b34",
   "metadata": {},
   "outputs": [
    {
     "data": {
      "text/plain": [
       "True"
      ]
     },
     "execution_count": 75,
     "metadata": {},
     "output_type": "execute_result"
    }
   ],
   "source": [
    "y==a**x%p"
   ]
  },
  {
   "cell_type": "code",
   "execution_count": null,
   "id": "471f9c94-1c16-48fa-a065-f7902ff4cccf",
   "metadata": {},
   "outputs": [],
   "source": []
  }
 ],
 "metadata": {
  "kernelspec": {
   "display_name": "Python 3 (ipykernel)",
   "language": "python",
   "name": "python3"
  },
  "language_info": {
   "codemirror_mode": {
    "name": "ipython",
    "version": 3
   },
   "file_extension": ".py",
   "mimetype": "text/x-python",
   "name": "python",
   "nbconvert_exporter": "python",
   "pygments_lexer": "ipython3",
   "version": "3.11.7"
  }
 },
 "nbformat": 4,
 "nbformat_minor": 5
}
