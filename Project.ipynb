{
 "cells": [
  {
   "cell_type": "code",
   "execution_count": 88,
   "id": "ab31875c-e2ed-41e9-ae96-a158fab9f1f8",
   "metadata": {},
   "outputs": [],
   "source": [
    "import math\n",
    "from sympy import primerange\n",
    "\n",
    "alpha=y=7\n",
    "beta=a=11\n",
    "p=29\n",
    "# alpha=y=17\n",
    "# beta=a=10\n",
    "# p=47\n",
    "# beta=a=2\n",
    "# alpha=y=6\n",
    "# p=19\n",
    "# beta=a=3\n",
    "# alpha=y=11\n",
    "# p=17\n",
    "# beta=a=2\n",
    "# alpha=y=28\n",
    "# p=37\n",
    "# beta=a=59\n",
    "# alpha=y=67\n",
    "# p=113\n",
    "# alpha=y=10\n",
    "# beta=a=34\n",
    "# p=41\n",
    "border=2**math.sqrt(math.log(p)*math.log(math.log(p)))\n",
    "gamma=list(primerange(1, border))"
   ]
  },
  {
   "cell_type": "code",
   "execution_count": 89,
   "id": "276cb5cc-2075-4698-aef8-7d211cd64c09",
   "metadata": {},
   "outputs": [
    {
     "data": {
      "text/plain": [
       "[2, 3]"
      ]
     },
     "execution_count": 89,
     "metadata": {},
     "output_type": "execute_result"
    }
   ],
   "source": [
    "gamma"
   ]
  },
  {
   "cell_type": "code",
   "execution_count": 90,
   "id": "33a50b1b-bc50-4375-b23d-62f9048316fe",
   "metadata": {},
   "outputs": [],
   "source": [
    "def primfacs(n):\n",
    "    i = 2\n",
    "    primfac = []\n",
    "    while i * i <= n:\n",
    "        while n % i == 0:\n",
    "            primfac.append(i)\n",
    "            n //= i\n",
    "        i += 1\n",
    "    if n > 1:\n",
    "        primfac.append(n)\n",
    "    p=list(set(primfac))\n",
    "    p.sort()\n",
    "    d={}\n",
    "    for el in p:\n",
    "        d[el]=primfac.count(el)\n",
    "    return d"
   ]
  },
  {
   "cell_type": "code",
   "execution_count": 91,
   "id": "63b2278c-1485-44ea-8f69-08ebe752b95c",
   "metadata": {},
   "outputs": [],
   "source": [
    "def is_smooth(prim, gamma):\n",
    "    k=0\n",
    "    for el in prim.keys():\n",
    "        if el in gamma:\n",
    "            k+=1\n",
    "    if k==len(prim.keys()):\n",
    "        return True\n",
    "    else:\n",
    "        return False"
   ]
  },
  {
   "cell_type": "code",
   "execution_count": 92,
   "id": "13309a4d-7742-402f-8f01-b49c5ce2a52d",
   "metadata": {},
   "outputs": [],
   "source": [
    "def get_coefs(prim, gamma):\n",
    "    m=[]\n",
    "    for el in gamma:\n",
    "        if el in prim.keys():\n",
    "            m.append(prim[el])\n",
    "        else:\n",
    "            m.append(0)\n",
    "    return m"
   ]
  },
  {
   "cell_type": "code",
   "execution_count": 93,
   "id": "8d1f2150-801f-4721-9d74-f90987e9d0e8",
   "metadata": {},
   "outputs": [],
   "source": [
    "def is_int(arr):\n",
    "    k=0\n",
    "    ki=0\n",
    "    for elt in arr:\n",
    "        for el in elt:\n",
    "            k+=1\n",
    "            if type(el)==int or type(el)==np.int32:\n",
    "                ki+=1\n",
    "    if ki==k:\n",
    "        return True\n",
    "    else:\n",
    "        return False"
   ]
  },
  {
   "cell_type": "code",
   "execution_count": 94,
   "id": "c8f7c7cc-4f2e-42ec-a65b-9eddc7378bb5",
   "metadata": {},
   "outputs": [
    {
     "name": "stdout",
     "output_type": "stream",
     "text": [
      "k = 24\n"
     ]
    }
   ],
   "source": [
    "import numpy as np\n",
    "from itertools import *\n",
    "\n",
    "break_flag=False\n",
    "res=0\n",
    "i=50\n",
    "\n",
    "while alpha!=beta**int(res)%p:\n",
    "    i+=10\n",
    "    for c in combinations(range(1, i), len(gamma)):\n",
    "        M=[]\n",
    "        V=[]\n",
    "        Ms=[]\n",
    "        Vs=[]\n",
    "        for j in c:\n",
    "            prim=primfacs(beta**j%p)\n",
    "            k=0\n",
    "            Mj=[]\n",
    "            v=[]\n",
    "            if is_smooth(prim, gamma):\n",
    "                m=get_coefs(prim, gamma)\n",
    "                Mj.append(m)\n",
    "                v.append(j)\n",
    "                Ms.append(Mj[0])\n",
    "                Vs.append(v)\n",
    "        M=np.vstack([Ms])\n",
    "        V=np.vstack([Vs])\n",
    "        try:\n",
    "            S=np.linalg.solve(M, V)\n",
    "            if np.array_equal(np.dot(M, S)%(p-1), V%(p-1)) and is_int(S):\n",
    "                break_flag=True\n",
    "                break\n",
    "        except:\n",
    "            pass\n",
    "        if break_flag:\n",
    "            break\n",
    "    for r in range(1, p-1):\n",
    "        prim=primfacs(alpha*beta**r%p)\n",
    "        if is_smooth(prim, gamma):\n",
    "            coefs=get_coefs(prim, gamma)\n",
    "            res=(-r+int(np.sum(np.array(coefs)*np.array(S).T[0])))%(p-1)\n",
    "            if alpha==beta**int(res)%p:\n",
    "                print(f'k = {res}')\n",
    "                break"
   ]
  },
  {
   "cell_type": "code",
   "execution_count": 95,
   "id": "af3f3ed1-5d08-46a0-8b5c-461e2fe9b820",
   "metadata": {},
   "outputs": [
    {
     "data": {
      "text/plain": [
       "True"
      ]
     },
     "execution_count": 95,
     "metadata": {},
     "output_type": "execute_result"
    }
   ],
   "source": [
    "alpha==beta**int(res)%p"
   ]
  },
  {
   "cell_type": "code",
   "execution_count": 96,
   "id": "45a5aef1-4bde-48a6-a170-209cfc65a706",
   "metadata": {},
   "outputs": [],
   "source": [
    "def find_primroot(mod):\n",
    "    required_set = set(num for num in range (1, mod) if math.gcd(num, mod) == 1)\n",
    "    for g in range(1, mod):\n",
    "        actual_set = set(g**powers % mod for powers in range (1, mod))\n",
    "        if required_set == actual_set:\n",
    "            return g"
   ]
  },
  {
   "cell_type": "code",
   "execution_count": 97,
   "id": "d03cd5ff-6705-43b7-a5f9-d0a9da6c552f",
   "metadata": {},
   "outputs": [],
   "source": [
    "g=find_primroot(p)"
   ]
  },
  {
   "cell_type": "code",
   "execution_count": 98,
   "id": "86aaa502-ef58-4686-966f-b4c90279899d",
   "metadata": {},
   "outputs": [
    {
     "data": {
      "text/plain": [
       "2"
      ]
     },
     "execution_count": 98,
     "metadata": {},
     "output_type": "execute_result"
    }
   ],
   "source": [
    "g"
   ]
  },
  {
   "cell_type": "code",
   "execution_count": 99,
   "id": "0f969ecc-550e-47a6-a6c4-69db440775cc",
   "metadata": {},
   "outputs": [],
   "source": [
    "indexes=[]\n",
    "\n",
    "flag1=flag2=break_flag=False\n",
    "xn=yn=0\n",
    "\n",
    "for i in range(10):\n",
    "    r=[]\n",
    "    for j in range(10):\n",
    "        power=int(str(i)+str(j))\n",
    "        s=g**power%p\n",
    "        if s==a:\n",
    "            an=power\n",
    "            flag1=True\n",
    "        if s==y:\n",
    "            yn=power\n",
    "            flag2=True\n",
    "        if flag1 and flag2:\n",
    "            break_flag=True\n",
    "            break\n",
    "        r.append(s)\n",
    "    indexes.append(r)\n",
    "    if break_flag:\n",
    "        break"
   ]
  },
  {
   "cell_type": "code",
   "execution_count": 100,
   "id": "5f1dbe38-81ba-45b7-80e0-742eacecb8a1",
   "metadata": {},
   "outputs": [
    {
     "data": {
      "text/plain": [
       "(25, 12)"
      ]
     },
     "execution_count": 100,
     "metadata": {},
     "output_type": "execute_result"
    }
   ],
   "source": [
    "an, yn"
   ]
  },
  {
   "cell_type": "code",
   "execution_count": 101,
   "id": "bea88be6-4d63-4f28-9e38-e8d41cae5865",
   "metadata": {},
   "outputs": [],
   "source": [
    "x=(yn*pow(an, -1, p-1))%(p-1)"
   ]
  },
  {
   "cell_type": "code",
   "execution_count": 102,
   "id": "b15259ae-6882-45ad-8219-730d8a5e14b1",
   "metadata": {},
   "outputs": [
    {
     "name": "stdout",
     "output_type": "stream",
     "text": [
      "x = 24\n"
     ]
    }
   ],
   "source": [
    "print(f'x = {x}')"
   ]
  },
  {
   "cell_type": "code",
   "execution_count": 103,
   "id": "4afb66d2-721c-44b8-9073-5e227d4f3b34",
   "metadata": {},
   "outputs": [
    {
     "data": {
      "text/plain": [
       "True"
      ]
     },
     "execution_count": 103,
     "metadata": {},
     "output_type": "execute_result"
    }
   ],
   "source": [
    "y==a**x%p"
   ]
  },
  {
   "cell_type": "code",
   "execution_count": null,
   "id": "471f9c94-1c16-48fa-a065-f7902ff4cccf",
   "metadata": {},
   "outputs": [],
   "source": []
  }
 ],
 "metadata": {
  "kernelspec": {
   "display_name": "Python 3 (ipykernel)",
   "language": "python",
   "name": "python3"
  },
  "language_info": {
   "codemirror_mode": {
    "name": "ipython",
    "version": 3
   },
   "file_extension": ".py",
   "mimetype": "text/x-python",
   "name": "python",
   "nbconvert_exporter": "python",
   "pygments_lexer": "ipython3",
   "version": "3.11.7"
  }
 },
 "nbformat": 4,
 "nbformat_minor": 5
}
